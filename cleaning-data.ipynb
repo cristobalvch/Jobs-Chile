{
 "metadata": {
  "language_info": {
   "codemirror_mode": {
    "name": "ipython",
    "version": 3
   },
   "file_extension": ".py",
   "mimetype": "text/x-python",
   "name": "python",
   "nbconvert_exporter": "python",
   "pygments_lexer": "ipython3",
   "version": "3.8.5-final"
  },
  "orig_nbformat": 2,
  "kernelspec": {
   "name": "python_defaultSpec_1599442812913",
   "display_name": "Python 3.8.5 64-bit"
  }
 },
 "nbformat": 4,
 "nbformat_minor": 2,
 "cells": [
  {
   "cell_type": "code",
   "execution_count": 3,
   "metadata": {},
   "outputs": [],
   "source": [
    "from helpers import webscraping_jobs\n",
    "import pandas as pd\n",
    "import datetime\n",
    "import time\n",
    "import re\n",
    "import numpy as np "
   ]
  },
  {
   "cell_type": "code",
   "execution_count": 4,
   "metadata": {
    "tags": []
   },
   "outputs": [
    {
     "output_type": "stream",
     "name": "stdout",
     "text": "Web Scraping Finalizado!\nTotal de Ofertas laborales extraidas: 400\n"
    }
   ],
   "source": [
    "df = webscraping_jobs('ingeniero',20)"
   ]
  },
  {
   "cell_type": "code",
   "execution_count": 5,
   "metadata": {},
   "outputs": [],
   "source": [
    "#reemplazar variables nulas con terminologia unica NaN\n",
    "df = df.replace(\"nan\",np.nan)\n",
    "\n",
    "#Reemplazar variables Nulas en variable empresa por valor no informa\n",
    "df['empresa'] = df['empresa'].replace(np.nan,\"No Informa\")\n",
    "\n",
    "#Limpiar variable educacion\n",
    "df['educacion'] = df['educacion'].str.replace(\"<li>Educación mínima: \",\"\").str.replace(\".</li>\",\"\").str.replace(\" / I.P. / C.F.T\",\"\").str.replace(\" C.H. / Técnic\",\"\")\n",
    "\n",
    "#limpiar variable oferta\n",
    "df['oferta'] = df['oferta'].str.replace(r\"[^_]*[Rr]equiere|\\s[dD]e|\\d\",\"\")\n",
    "\n",
    "#Agregar columna de fecha de descarga de informacion\n",
    "df['fecha descarga'] = datetime.date.today()"
   ]
  },
  {
   "cell_type": "code",
   "execution_count": 6,
   "metadata": {},
   "outputs": [],
   "source": [
    "#cambiar tipo de dato de variable salario a decimal\n",
    "df['salario'] = df['salario'].astype(\"float\")"
   ]
  },
  {
   "cell_type": "code",
   "execution_count": 21,
   "metadata": {},
   "outputs": [],
   "source": [
    "#Eliminar filas duplicadas en case de haber\n",
    "df = df.drop_duplicates()"
   ]
  },
  {
   "cell_type": "code",
   "execution_count": 38,
   "metadata": {},
   "outputs": [],
   "source": [
    "#Corregir salarios con montos elevados por errores de tipeo\n",
    "df['salario'].iloc[239] = 1111111.0\n",
    "df['salario'].iloc[124] = 1111111.0"
   ]
  },
  {
   "cell_type": "code",
   "execution_count": 50,
   "metadata": {},
   "outputs": [],
   "source": [
    "df.to_csv(\"data-jobs.csv\",index=False,encoding='utf-8')"
   ]
  }
 ]
}